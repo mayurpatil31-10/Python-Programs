{
 "cells": [
  {
   "cell_type": "markdown",
   "metadata": {},
   "source": [
    "# Write a program that uses input to prompt a user for their name & then welcome them."
   ]
  },
  {
   "cell_type": "code",
   "execution_count": 1,
   "metadata": {},
   "outputs": [
    {
     "name": "stdout",
     "output_type": "stream",
     "text": [
      "Enter Your Name:- Mayur\n",
      "Welcome Mayur\n"
     ]
    }
   ],
   "source": [
    "inp = input('Enter Your Name:- ')\n",
    "print(\"Welcome\", inp)"
   ]
  },
  {
   "cell_type": "markdown",
   "metadata": {},
   "source": [
    "# Write a program to prompt the user for hours and rate per hour to compute gross pay."
   ]
  },
  {
   "cell_type": "code",
   "execution_count": 3,
   "metadata": {},
   "outputs": [
    {
     "name": "stdout",
     "output_type": "stream",
     "text": [
      "Enter the Hours:- 35\n",
      "Enter the Rate:- 2.75\n",
      "The Gross Pay is:-  96.25\n"
     ]
    }
   ],
   "source": [
    "hours = float(input(\"Enter the Hours:- \"))\n",
    "rate = float(input(\"Enter the Rate:- \"))\n",
    "\n",
    "gross_pay = hours * rate\n",
    "\n",
    "print('The Gross Pay is:- ', gross_pay)"
   ]
  },
  {
   "cell_type": "markdown",
   "metadata": {},
   "source": [
    "# Write a program which prompts the user for a Celsius temperature, convert the temperature to Fahrenheit, and print out the converted temperature."
   ]
  },
  {
   "cell_type": "code",
   "execution_count": 4,
   "metadata": {},
   "outputs": [
    {
     "name": "stdout",
     "output_type": "stream",
     "text": [
      "Enter the temperature in celcius:- 10\n",
      "The temperature in Fahrenheit is:-  50.0 degree F\n"
     ]
    }
   ],
   "source": [
    "cel = int(input(\"Enter the temperature in celcius:- \"))\n",
    "\n",
    "fah = (cel * 9/5) + 32\n",
    "\n",
    "print(\"The temperature in Fahrenheit is:- \", fah,'degree F')"
   ]
  },
  {
   "cell_type": "code",
   "execution_count": 8,
   "metadata": {},
   "outputs": [
    {
     "name": "stdout",
     "output_type": "stream",
     "text": [
      "8\n"
     ]
    }
   ],
   "source": [
    "w = 17\n",
    "z = w//2\n",
    "print(z)"
   ]
  },
  {
   "cell_type": "code",
   "execution_count": null,
   "metadata": {},
   "outputs": [],
   "source": []
  }
 ],
 "metadata": {
  "kernelspec": {
   "display_name": "Python 3",
   "language": "python",
   "name": "python3"
  },
  "language_info": {
   "codemirror_mode": {
    "name": "ipython",
    "version": 3
   },
   "file_extension": ".py",
   "mimetype": "text/x-python",
   "name": "python",
   "nbconvert_exporter": "python",
   "pygments_lexer": "ipython3",
   "version": "3.6.4"
  }
 },
 "nbformat": 4,
 "nbformat_minor": 2
}
